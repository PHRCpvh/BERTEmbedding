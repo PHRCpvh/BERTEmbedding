{
  "nbformat": 4,
  "nbformat_minor": 0,
  "metadata": {
    "colab": {
      "name": "Sentimentos com BERT e Embedding.ipynb",
      "provenance": [],
      "collapsed_sections": [],
      "mount_file_id": "1OH2CnYB5MMzta5wOrEMxu-7qsULM-uOM",
      "authorship_tag": "ABX9TyM/tivpNbm0trLtwUs7huGq",
      "include_colab_link": true
    },
    "kernelspec": {
      "name": "python3",
      "display_name": "Python 3"
    },
    "accelerator": "GPU"
  },
  "cells": [
    {
      "cell_type": "markdown",
      "metadata": {
        "id": "view-in-github",
        "colab_type": "text"
      },
      "source": [
        "<a href=\"https://colab.research.google.com/github/PHRCpvh/BERTEmbedding/blob/master/Sentimentos_com_BERT_e_Embedding.ipynb\" target=\"_parent\"><img src=\"https://colab.research.google.com/assets/colab-badge.svg\" alt=\"Open In Colab\"/></a>"
      ]
    },
    {
      "cell_type": "markdown",
      "metadata": {
        "id": "xjSfL6syGDEF",
        "colab_type": "text"
      },
      "source": [
        "# 1 - Importação de Bibliotecas"
      ]
    },
    {
      "cell_type": "code",
      "metadata": {
        "id": "RgCP7g1VF9gM",
        "colab_type": "code",
        "colab": {}
      },
      "source": [
        "import numpy as np\n",
        "import math\n",
        "import re\n",
        "import pandas as pd\n",
        "from bs4 import BeautifulSoup\n",
        "import random\n",
        "from google.colab import drive"
      ],
      "execution_count": null,
      "outputs": []
    },
    {
      "cell_type": "code",
      "metadata": {
        "id": "O4lzVjF5GpL1",
        "colab_type": "code",
        "colab": {
          "base_uri": "https://localhost:8080/",
          "height": 126
        },
        "outputId": "15647c07-44d7-444f-d412-e0d33ede3556"
      },
      "source": [
        "!pip install bert-for-tf2"
      ],
      "execution_count": null,
      "outputs": [
        {
          "output_type": "stream",
          "text": [
            "Requirement already satisfied: bert-for-tf2 in /usr/local/lib/python3.6/dist-packages (0.14.6)\n",
            "Requirement already satisfied: params-flow>=0.8.0 in /usr/local/lib/python3.6/dist-packages (from bert-for-tf2) (0.8.2)\n",
            "Requirement already satisfied: py-params>=0.9.6 in /usr/local/lib/python3.6/dist-packages (from bert-for-tf2) (0.9.7)\n",
            "Requirement already satisfied: tqdm in /usr/local/lib/python3.6/dist-packages (from params-flow>=0.8.0->bert-for-tf2) (4.41.1)\n",
            "Requirement already satisfied: numpy in /usr/local/lib/python3.6/dist-packages (from params-flow>=0.8.0->bert-for-tf2) (1.18.5)\n"
          ],
          "name": "stdout"
        }
      ]
    },
    {
      "cell_type": "code",
      "metadata": {
        "id": "Shg99avlGv9C",
        "colab_type": "code",
        "colab": {
          "base_uri": "https://localhost:8080/",
          "height": 35
        },
        "outputId": "5a1c3e21-b095-4de2-a5ba-06ccf11207ca"
      },
      "source": [
        "!pip install sentencepiece"
      ],
      "execution_count": null,
      "outputs": [
        {
          "output_type": "stream",
          "text": [
            "Requirement already satisfied: sentencepiece in /usr/local/lib/python3.6/dist-packages (0.1.91)\n"
          ],
          "name": "stdout"
        }
      ]
    },
    {
      "cell_type": "code",
      "metadata": {
        "id": "UtiaJM3oG1io",
        "colab_type": "code",
        "colab": {}
      },
      "source": [
        "%tensorflow_version 2.x"
      ],
      "execution_count": null,
      "outputs": []
    },
    {
      "cell_type": "code",
      "metadata": {
        "id": "UmDQEIlQG6MK",
        "colab_type": "code",
        "colab": {}
      },
      "source": [
        "import tensorflow as tf\n",
        "import tensorflow_hub as hub\n",
        "from tensorflow.keras import layers\n",
        "import bert"
      ],
      "execution_count": null,
      "outputs": []
    },
    {
      "cell_type": "code",
      "metadata": {
        "id": "gDnjj_fTOc8u",
        "colab_type": "code",
        "colab": {
          "base_uri": "https://localhost:8080/",
          "height": 698
        },
        "outputId": "860b8b8d-0af7-4bba-ad20-66a9d50eeed4"
      },
      "source": [
        "tf.__version__\n",
        "!#pip install tensorflow==2.2.0-rc3"
      ],
      "execution_count": null,
      "outputs": [
        {
          "output_type": "stream",
          "text": [
            "Requirement already satisfied: tensorflow==2.2.0-rc3 in /usr/local/lib/python3.6/dist-packages (2.2.0rc3)\n",
            "Requirement already satisfied: absl-py>=0.7.0 in /usr/local/lib/python3.6/dist-packages (from tensorflow==2.2.0-rc3) (0.8.1)\n",
            "Requirement already satisfied: numpy<2.0,>=1.16.0 in /usr/local/lib/python3.6/dist-packages (from tensorflow==2.2.0-rc3) (1.18.5)\n",
            "Requirement already satisfied: gast==0.3.3 in /usr/local/lib/python3.6/dist-packages (from tensorflow==2.2.0-rc3) (0.3.3)\n",
            "Requirement already satisfied: opt-einsum>=2.3.2 in /usr/local/lib/python3.6/dist-packages (from tensorflow==2.2.0-rc3) (3.3.0)\n",
            "Requirement already satisfied: wheel>=0.26; python_version >= \"3\" in /usr/local/lib/python3.6/dist-packages (from tensorflow==2.2.0-rc3) (0.35.1)\n",
            "Requirement already satisfied: h5py<2.11.0,>=2.10.0 in /usr/local/lib/python3.6/dist-packages (from tensorflow==2.2.0-rc3) (2.10.0)\n",
            "Requirement already satisfied: protobuf>=3.8.0 in /usr/local/lib/python3.6/dist-packages (from tensorflow==2.2.0-rc3) (3.12.4)\n",
            "Requirement already satisfied: scipy==1.4.1; python_version >= \"3\" in /usr/local/lib/python3.6/dist-packages (from tensorflow==2.2.0-rc3) (1.4.1)\n",
            "Requirement already satisfied: tensorboard<2.3.0,>=2.2.0 in /usr/local/lib/python3.6/dist-packages (from tensorflow==2.2.0-rc3) (2.2.2)\n",
            "Requirement already satisfied: tensorflow-estimator<2.3.0,>=2.2.0rc0 in /usr/local/lib/python3.6/dist-packages (from tensorflow==2.2.0-rc3) (2.2.0)\n",
            "Requirement already satisfied: termcolor>=1.1.0 in /usr/local/lib/python3.6/dist-packages (from tensorflow==2.2.0-rc3) (1.1.0)\n",
            "Requirement already satisfied: six>=1.12.0 in /usr/local/lib/python3.6/dist-packages (from tensorflow==2.2.0-rc3) (1.15.0)\n",
            "Requirement already satisfied: keras-preprocessing>=1.1.0 in /usr/local/lib/python3.6/dist-packages (from tensorflow==2.2.0-rc3) (1.1.2)\n",
            "Requirement already satisfied: google-pasta>=0.1.8 in /usr/local/lib/python3.6/dist-packages (from tensorflow==2.2.0-rc3) (0.2.0)\n",
            "Requirement already satisfied: grpcio>=1.8.6 in /usr/local/lib/python3.6/dist-packages (from tensorflow==2.2.0-rc3) (1.31.0)\n",
            "Requirement already satisfied: astunparse==1.6.3 in /usr/local/lib/python3.6/dist-packages (from tensorflow==2.2.0-rc3) (1.6.3)\n",
            "Requirement already satisfied: wrapt>=1.11.1 in /usr/local/lib/python3.6/dist-packages (from tensorflow==2.2.0-rc3) (1.12.1)\n",
            "Requirement already satisfied: setuptools in /usr/local/lib/python3.6/dist-packages (from protobuf>=3.8.0->tensorflow==2.2.0-rc3) (49.6.0)\n",
            "Requirement already satisfied: markdown>=2.6.8 in /usr/local/lib/python3.6/dist-packages (from tensorboard<2.3.0,>=2.2.0->tensorflow==2.2.0-rc3) (3.2.2)\n",
            "Requirement already satisfied: google-auth<2,>=1.6.3 in /usr/local/lib/python3.6/dist-packages (from tensorboard<2.3.0,>=2.2.0->tensorflow==2.2.0-rc3) (1.17.2)\n",
            "Requirement already satisfied: werkzeug>=0.11.15 in /usr/local/lib/python3.6/dist-packages (from tensorboard<2.3.0,>=2.2.0->tensorflow==2.2.0-rc3) (1.0.1)\n",
            "Requirement already satisfied: requests<3,>=2.21.0 in /usr/local/lib/python3.6/dist-packages (from tensorboard<2.3.0,>=2.2.0->tensorflow==2.2.0-rc3) (2.23.0)\n",
            "Requirement already satisfied: google-auth-oauthlib<0.5,>=0.4.1 in /usr/local/lib/python3.6/dist-packages (from tensorboard<2.3.0,>=2.2.0->tensorflow==2.2.0-rc3) (0.4.1)\n",
            "Requirement already satisfied: tensorboard-plugin-wit>=1.6.0 in /usr/local/lib/python3.6/dist-packages (from tensorboard<2.3.0,>=2.2.0->tensorflow==2.2.0-rc3) (1.7.0)\n",
            "Requirement already satisfied: importlib-metadata; python_version < \"3.8\" in /usr/local/lib/python3.6/dist-packages (from markdown>=2.6.8->tensorboard<2.3.0,>=2.2.0->tensorflow==2.2.0-rc3) (1.7.0)\n",
            "Requirement already satisfied: pyasn1-modules>=0.2.1 in /usr/local/lib/python3.6/dist-packages (from google-auth<2,>=1.6.3->tensorboard<2.3.0,>=2.2.0->tensorflow==2.2.0-rc3) (0.2.8)\n",
            "Requirement already satisfied: cachetools<5.0,>=2.0.0 in /usr/local/lib/python3.6/dist-packages (from google-auth<2,>=1.6.3->tensorboard<2.3.0,>=2.2.0->tensorflow==2.2.0-rc3) (4.1.1)\n",
            "Requirement already satisfied: rsa<5,>=3.1.4; python_version >= \"3\" in /usr/local/lib/python3.6/dist-packages (from google-auth<2,>=1.6.3->tensorboard<2.3.0,>=2.2.0->tensorflow==2.2.0-rc3) (4.6)\n",
            "Requirement already satisfied: chardet<4,>=3.0.2 in /usr/local/lib/python3.6/dist-packages (from requests<3,>=2.21.0->tensorboard<2.3.0,>=2.2.0->tensorflow==2.2.0-rc3) (3.0.4)\n",
            "Requirement already satisfied: urllib3!=1.25.0,!=1.25.1,<1.26,>=1.21.1 in /usr/local/lib/python3.6/dist-packages (from requests<3,>=2.21.0->tensorboard<2.3.0,>=2.2.0->tensorflow==2.2.0-rc3) (1.24.3)\n",
            "Requirement already satisfied: certifi>=2017.4.17 in /usr/local/lib/python3.6/dist-packages (from requests<3,>=2.21.0->tensorboard<2.3.0,>=2.2.0->tensorflow==2.2.0-rc3) (2020.6.20)\n",
            "Requirement already satisfied: idna<3,>=2.5 in /usr/local/lib/python3.6/dist-packages (from requests<3,>=2.21.0->tensorboard<2.3.0,>=2.2.0->tensorflow==2.2.0-rc3) (2.10)\n",
            "Requirement already satisfied: requests-oauthlib>=0.7.0 in /usr/local/lib/python3.6/dist-packages (from google-auth-oauthlib<0.5,>=0.4.1->tensorboard<2.3.0,>=2.2.0->tensorflow==2.2.0-rc3) (1.3.0)\n",
            "Requirement already satisfied: zipp>=0.5 in /usr/local/lib/python3.6/dist-packages (from importlib-metadata; python_version < \"3.8\"->markdown>=2.6.8->tensorboard<2.3.0,>=2.2.0->tensorflow==2.2.0-rc3) (3.1.0)\n",
            "Requirement already satisfied: pyasn1<0.5.0,>=0.4.6 in /usr/local/lib/python3.6/dist-packages (from pyasn1-modules>=0.2.1->google-auth<2,>=1.6.3->tensorboard<2.3.0,>=2.2.0->tensorflow==2.2.0-rc3) (0.4.8)\n",
            "Requirement already satisfied: oauthlib>=3.0.0 in /usr/local/lib/python3.6/dist-packages (from requests-oauthlib>=0.7.0->google-auth-oauthlib<0.5,>=0.4.1->tensorboard<2.3.0,>=2.2.0->tensorflow==2.2.0-rc3) (3.1.0)\n"
          ],
          "name": "stdout"
        }
      ]
    },
    {
      "cell_type": "code",
      "metadata": {
        "id": "ftN2a_X5xjCX",
        "colab_type": "code",
        "colab": {
          "base_uri": "https://localhost:8080/",
          "height": 36
        },
        "outputId": "c3490885-dd0f-4ccd-c2e5-292e76432a8b"
      },
      "source": [
        "tf.__version__"
      ],
      "execution_count": null,
      "outputs": [
        {
          "output_type": "execute_result",
          "data": {
            "application/vnd.google.colaboratory.intrinsic+json": {
              "type": "string"
            },
            "text/plain": [
              "'2.2.0-rc3'"
            ]
          },
          "metadata": {
            "tags": []
          },
          "execution_count": 7
        }
      ]
    },
    {
      "cell_type": "markdown",
      "metadata": {
        "id": "h9dxFHEcGcuV",
        "colab_type": "text"
      },
      "source": [
        "# 2 - Pré-processamento"
      ]
    },
    {
      "cell_type": "markdown",
      "metadata": {
        "id": "AP-Gc9a7OUoM",
        "colab_type": "text"
      },
      "source": [
        "Carregamento da base de dados"
      ]
    },
    {
      "cell_type": "code",
      "metadata": {
        "id": "sxd5xS3QL1UQ",
        "colab_type": "code",
        "colab": {
          "base_uri": "https://localhost:8080/",
          "height": 144
        },
        "outputId": "2f408220-048c-486f-9c96-7a8b294674dc"
      },
      "source": [
        "from google.colab import drive\n",
        "drive.mount('/gdrive')\n",
        "%cd /gdrive"
      ],
      "execution_count": null,
      "outputs": [
        {
          "output_type": "stream",
          "text": [
            "Go to this URL in a browser: https://accounts.google.com/o/oauth2/auth?client_id=947318989803-6bn6qk8qdgf4n4g3pfee6491hc0brc4i.apps.googleusercontent.com&redirect_uri=urn%3aietf%3awg%3aoauth%3a2.0%3aoob&scope=email%20https%3a%2f%2fwww.googleapis.com%2fauth%2fdocs.test%20https%3a%2f%2fwww.googleapis.com%2fauth%2fdrive%20https%3a%2f%2fwww.googleapis.com%2fauth%2fdrive.photos.readonly%20https%3a%2f%2fwww.googleapis.com%2fauth%2fpeopleapi.readonly&response_type=code\n",
            "\n",
            "Enter your authorization code:\n",
            "4/3wE6rGhNFuGPOc8KywtVBt3QWeS1WaR3a2jug5g7Z3QKV9NMeTWM6bA\n",
            "Mounted at /gdrive\n",
            "/gdrive\n"
          ],
          "name": "stdout"
        }
      ]
    },
    {
      "cell_type": "code",
      "metadata": {
        "id": "sEjzVfZPO9Df",
        "colab_type": "code",
        "colab": {
          "base_uri": "https://localhost:8080/",
          "height": 35
        },
        "outputId": "dba52650-e688-4293-ea88-f494fcc40b11"
      },
      "source": [
        "drive.mount('/content/drive')"
      ],
      "execution_count": null,
      "outputs": [
        {
          "output_type": "stream",
          "text": [
            "Mounted at /content/drive\n"
          ],
          "name": "stdout"
        }
      ]
    },
    {
      "cell_type": "code",
      "metadata": {
        "id": "ZPzrbK-TRdBU",
        "colab_type": "code",
        "colab": {
          "base_uri": "https://localhost:8080/",
          "height": 35
        },
        "outputId": "b2ab0c78-77aa-4284-9681-d9389227e872"
      },
      "source": [
        "drive.mount(\"/content/drive\", force_remount=True)"
      ],
      "execution_count": null,
      "outputs": [
        {
          "output_type": "stream",
          "text": [
            "Mounted at /content/drive\n"
          ],
          "name": "stdout"
        }
      ]
    },
    {
      "cell_type": "code",
      "metadata": {
        "id": "quszKt82JClG",
        "colab_type": "code",
        "colab": {}
      },
      "source": [
        "cols = ['sentiment', 'id', 'date', 'query', 'user', 'text']"
      ],
      "execution_count": null,
      "outputs": []
    },
    {
      "cell_type": "code",
      "metadata": {
        "id": "zegPzJcfLW04",
        "colab_type": "code",
        "colab": {}
      },
      "source": [
        "data = pd.read_csv(\"/content/drive/My Drive/Google Colab/training.1600000.processed.noemoticon.csv\",\n",
        "                   header = None,\n",
        "                   names = cols,\n",
        "                   engine = 'python',\n",
        "                   encoding = 'latin1'\n",
        "                   )"
      ],
      "execution_count": null,
      "outputs": []
    },
    {
      "cell_type": "code",
      "metadata": {
        "id": "c956RvNIJx3i",
        "colab_type": "code",
        "colab": {}
      },
      "source": [
        "data.drop([\"id\", \"date\", \"query\", \"user\"],\n",
        "          axis=1,\n",
        "          inplace=True)"
      ],
      "execution_count": null,
      "outputs": []
    },
    {
      "cell_type": "code",
      "metadata": {
        "id": "wCzH4iuZN4ec",
        "colab_type": "code",
        "colab": {
          "base_uri": "https://localhost:8080/",
          "height": 35
        },
        "outputId": "635b3630-0959-430f-bd27-6be92d8d6b1a"
      },
      "source": [
        "data.shape"
      ],
      "execution_count": null,
      "outputs": [
        {
          "output_type": "execute_result",
          "data": {
            "text/plain": [
              "(1600000, 2)"
            ]
          },
          "metadata": {
            "tags": []
          },
          "execution_count": 14
        }
      ]
    },
    {
      "cell_type": "code",
      "metadata": {
        "id": "_jvob9FSN7To",
        "colab_type": "code",
        "colab": {
          "base_uri": "https://localhost:8080/",
          "height": 206
        },
        "outputId": "390e31a3-f811-45f1-e0d1-97c93d13877b"
      },
      "source": [
        "data.head()"
      ],
      "execution_count": null,
      "outputs": [
        {
          "output_type": "execute_result",
          "data": {
            "text/html": [
              "<div>\n",
              "<style scoped>\n",
              "    .dataframe tbody tr th:only-of-type {\n",
              "        vertical-align: middle;\n",
              "    }\n",
              "\n",
              "    .dataframe tbody tr th {\n",
              "        vertical-align: top;\n",
              "    }\n",
              "\n",
              "    .dataframe thead th {\n",
              "        text-align: right;\n",
              "    }\n",
              "</style>\n",
              "<table border=\"1\" class=\"dataframe\">\n",
              "  <thead>\n",
              "    <tr style=\"text-align: right;\">\n",
              "      <th></th>\n",
              "      <th>sentiment</th>\n",
              "      <th>text</th>\n",
              "    </tr>\n",
              "  </thead>\n",
              "  <tbody>\n",
              "    <tr>\n",
              "      <th>0</th>\n",
              "      <td>0</td>\n",
              "      <td>@switchfoot http://twitpic.com/2y1zl - Awww, t...</td>\n",
              "    </tr>\n",
              "    <tr>\n",
              "      <th>1</th>\n",
              "      <td>0</td>\n",
              "      <td>is upset that he can't update his Facebook by ...</td>\n",
              "    </tr>\n",
              "    <tr>\n",
              "      <th>2</th>\n",
              "      <td>0</td>\n",
              "      <td>@Kenichan I dived many times for the ball. Man...</td>\n",
              "    </tr>\n",
              "    <tr>\n",
              "      <th>3</th>\n",
              "      <td>0</td>\n",
              "      <td>my whole body feels itchy and like its on fire</td>\n",
              "    </tr>\n",
              "    <tr>\n",
              "      <th>4</th>\n",
              "      <td>0</td>\n",
              "      <td>@nationwideclass no, it's not behaving at all....</td>\n",
              "    </tr>\n",
              "  </tbody>\n",
              "</table>\n",
              "</div>"
            ],
            "text/plain": [
              "   sentiment                                               text\n",
              "0          0  @switchfoot http://twitpic.com/2y1zl - Awww, t...\n",
              "1          0  is upset that he can't update his Facebook by ...\n",
              "2          0  @Kenichan I dived many times for the ball. Man...\n",
              "3          0    my whole body feels itchy and like its on fire \n",
              "4          0  @nationwideclass no, it's not behaving at all...."
            ]
          },
          "metadata": {
            "tags": []
          },
          "execution_count": 15
        }
      ]
    },
    {
      "cell_type": "markdown",
      "metadata": {
        "id": "3-xO-ImzOKcC",
        "colab_type": "text"
      },
      "source": [
        "Pré-processamento"
      ]
    },
    {
      "cell_type": "markdown",
      "metadata": {
        "id": "A9kmcYUMf7Mr",
        "colab_type": "text"
      },
      "source": [
        "Limpeza de textos"
      ]
    },
    {
      "cell_type": "code",
      "metadata": {
        "id": "WiGEow1MOJMK",
        "colab_type": "code",
        "colab": {}
      },
      "source": [
        "def clean_tweet(tweet):\n",
        "  tweet = BeautifulSoup(tweet, 'lxml').get_text()\n",
        "  tweet = re.sub(r\"@[A-Za-z0-9]+\", ' ', tweet)\n",
        "  tweet = re.sub(r\"https?://[A-Za-z0-9./]+\", ' ', tweet)\n",
        "  tweet = re.sub(r\"[^a-zA-Z.!?']\", ' ', tweet)\n",
        "  tweet = re.sub(r\" +\", ' ', tweet)\n",
        "  return tweet"
      ],
      "execution_count": null,
      "outputs": []
    },
    {
      "cell_type": "code",
      "metadata": {
        "id": "VNL1zhpuXU2c",
        "colab_type": "code",
        "colab": {
          "base_uri": "https://localhost:8080/",
          "height": 106
        },
        "outputId": "ebaf6222-bdb8-44a0-a1cc-7facddbc6148"
      },
      "source": [
        "# memory footprint support libraries/code\n",
        "!ln -sf /opt/bin/nvidia-smi /usr/bin/nvidia-smi\n",
        "!pip install gputil\n",
        "!pip install psutil\n",
        "!pip install humanize\n",
        "import psutil\n",
        "import humanize\n",
        "import os\n",
        "import GPUtil as GPU\n",
        "GPUs = GPU.getGPUs()\n",
        "# XXX: only one GPU on Colab and isn’t guaranteed\n",
        "gpu = GPUs[0]\n",
        "def printm():\n",
        " process = psutil.Process(os.getpid())\n",
        " print(\"Gen RAM Free: \" + humanize.naturalsize( psutil.virtual_memory().available ), \" | Proc size: \" + humanize.naturalsize( process.memory_info().rss))\n",
        " print(\"GPU RAM Free: {0:.0f}MB | Used: {1:.0f}MB | Util {2:3.0f}% | Total {3:.0f}MB\".format(gpu.memoryFree, gpu.memoryUsed, gpu.memoryUtil*100, gpu.memoryTotal))\n",
        "printm() "
      ],
      "execution_count": null,
      "outputs": [
        {
          "output_type": "stream",
          "text": [
            "Requirement already satisfied: gputil in /usr/local/lib/python3.6/dist-packages (1.4.0)\n",
            "Requirement already satisfied: psutil in /usr/local/lib/python3.6/dist-packages (5.4.8)\n",
            "Requirement already satisfied: humanize in /usr/local/lib/python3.6/dist-packages (0.5.1)\n",
            "Gen RAM Free: 4.1 GB  | Proc size: 9.4 GB\n",
            "GPU RAM Free: 10352MB | Used: 4727MB | Util  31% | Total 15079MB\n"
          ],
          "name": "stdout"
        }
      ]
    },
    {
      "cell_type": "code",
      "metadata": {
        "id": "E5uBeOk2hWTR",
        "colab_type": "code",
        "colab": {}
      },
      "source": [
        "data_clean = [clean_tweet(tweet) for tweet in data.text]"
      ],
      "execution_count": null,
      "outputs": []
    },
    {
      "cell_type": "code",
      "metadata": {
        "id": "tjC9bOxOMCDi",
        "colab_type": "code",
        "colab": {}
      },
      "source": [
        "data_labels = data.sentiment.values\n",
        "data_labels[data_labels == 4] = 1"
      ],
      "execution_count": null,
      "outputs": []
    },
    {
      "cell_type": "markdown",
      "metadata": {
        "id": "SPFASFnFrIbL",
        "colab_type": "text"
      },
      "source": [
        "Tokenização"
      ]
    },
    {
      "cell_type": "code",
      "metadata": {
        "id": "HKmAhLRfrJok",
        "colab_type": "code",
        "colab": {}
      },
      "source": [
        "FullTokenizer = bert.bert_tokenization.FullTokenizer\n",
        "bert_layer = hub.KerasLayer(\"https://tfhub.dev/tensorflow/bert_en_uncased_L-12_H-768_A-12/1\",\n",
        "                            trainable=False)\n",
        "vocab_file = bert_layer.resolved_object.vocab_file.asset_path.numpy()\n",
        "do_lower_case = bert_layer.resolved_object.do_lower_case.numpy()\n",
        "tokenizer = FullTokenizer(vocab_file, do_lower_case)"
      ],
      "execution_count": null,
      "outputs": []
    },
    {
      "cell_type": "code",
      "metadata": {
        "id": "h9sfvuGzG1Hc",
        "colab_type": "code",
        "colab": {}
      },
      "source": [
        "def encode_sentence(sent):\n",
        "  return [\"[CLS]\"] + tokenizer.tokenize(sent) + [\"[SEP]\"]"
      ],
      "execution_count": null,
      "outputs": []
    },
    {
      "cell_type": "code",
      "metadata": {
        "id": "XVzQ_4AtHI0-",
        "colab_type": "code",
        "colab": {
          "base_uri": "https://localhost:8080/",
          "height": 35
        },
        "outputId": "76c32cb8-06b6-4eb1-c168-550d3f0383b2"
      },
      "source": [
        "encode_sentence(\"My dog likes strawberries.\")"
      ],
      "execution_count": null,
      "outputs": [
        {
          "output_type": "execute_result",
          "data": {
            "text/plain": [
              "['[CLS]', 'my', 'dog', 'likes', 'straw', '##berries', '.', '[SEP]']"
            ]
          },
          "metadata": {
            "tags": []
          },
          "execution_count": 22
        }
      ]
    },
    {
      "cell_type": "code",
      "metadata": {
        "id": "dd11KR0THQHP",
        "colab_type": "code",
        "colab": {}
      },
      "source": [
        "data_inputs = [encode_sentence(sentence) for sentence in data_clean]"
      ],
      "execution_count": null,
      "outputs": []
    },
    {
      "cell_type": "code",
      "metadata": {
        "id": "IM5nJFvIHYb5",
        "colab_type": "code",
        "colab": {
          "base_uri": "https://localhost:8080/",
          "height": 55
        },
        "outputId": "4f6f68e1-2e9c-4348-cf56-62ce72511e95"
      },
      "source": [
        "print(data_inputs[0:2])"
      ],
      "execution_count": null,
      "outputs": [
        {
          "output_type": "stream",
          "text": [
            "[['[CLS]', 'aw', '##w', '##w', 'that', \"'\", 's', 'a', 'bum', '##mer', '.', 'you', 'should', '##a', 'got', 'david', 'carr', 'of', 'third', 'day', 'to', 'do', 'it', '.', 'd', '[SEP]'], ['[CLS]', 'is', 'upset', 'that', 'he', 'can', \"'\", 't', 'update', 'his', 'facebook', 'by', 'text', '##ing', 'it', '.', '.', '.', 'and', 'might', 'cry', 'as', 'a', 'result', 'school', 'today', 'also', '.', 'blah', '!', '[SEP]']]\n"
          ],
          "name": "stdout"
        }
      ]
    },
    {
      "cell_type": "markdown",
      "metadata": {
        "id": "8Uszt6ctUD6t",
        "colab_type": "text"
      },
      "source": [
        "Criação da Base de Dados"
      ]
    },
    {
      "cell_type": "code",
      "metadata": {
        "id": "fdBkiYK4J26i",
        "colab_type": "code",
        "colab": {}
      },
      "source": [
        "def get_ids(tokens):\n",
        "  return tokenizer.convert_tokens_to_ids(tokens)"
      ],
      "execution_count": null,
      "outputs": []
    },
    {
      "cell_type": "code",
      "metadata": {
        "id": "B1AYC7dmKAS7",
        "colab_type": "code",
        "colab": {
          "base_uri": "https://localhost:8080/",
          "height": 35
        },
        "outputId": "64b77502-dcff-4ccd-d963-40cf22187024"
      },
      "source": [
        "get_ids(tokenizer.tokenize(\"My dog likes strawberries.\"))"
      ],
      "execution_count": null,
      "outputs": [
        {
          "output_type": "execute_result",
          "data": {
            "text/plain": [
              "[2026, 3899, 7777, 13137, 20968, 1012]"
            ]
          },
          "metadata": {
            "tags": []
          },
          "execution_count": 26
        }
      ]
    },
    {
      "cell_type": "code",
      "metadata": {
        "id": "cBCGD9olKpw7",
        "colab_type": "code",
        "colab": {
          "base_uri": "https://localhost:8080/",
          "height": 35
        },
        "outputId": "bd3b58b1-5cea-4fff-dd28-2c2f6919162c"
      },
      "source": [
        "np.char.not_equal(\"[PAD]\", \"[PAD]\")"
      ],
      "execution_count": null,
      "outputs": [
        {
          "output_type": "execute_result",
          "data": {
            "text/plain": [
              "array(False)"
            ]
          },
          "metadata": {
            "tags": []
          },
          "execution_count": 27
        }
      ]
    },
    {
      "cell_type": "code",
      "metadata": {
        "id": "JE5TmgkpKPQQ",
        "colab_type": "code",
        "colab": {}
      },
      "source": [
        "def get_mask(tokens):\n",
        "  return np.char.not_equal(tokens, \"[PAD]\").astype(int)"
      ],
      "execution_count": null,
      "outputs": []
    },
    {
      "cell_type": "code",
      "metadata": {
        "id": "uymNgelhK4bR",
        "colab_type": "code",
        "colab": {
          "base_uri": "https://localhost:8080/",
          "height": 35
        },
        "outputId": "f5258cb1-a6d9-493a-8587-4b203f0d09a4"
      },
      "source": [
        "get_mask(tokenizer.tokenize(\"My dog likes strawberries.\"))"
      ],
      "execution_count": null,
      "outputs": [
        {
          "output_type": "execute_result",
          "data": {
            "text/plain": [
              "array([1, 1, 1, 1, 1, 1])"
            ]
          },
          "metadata": {
            "tags": []
          },
          "execution_count": 29
        }
      ]
    },
    {
      "cell_type": "code",
      "metadata": {
        "id": "_uwADxNALVsu",
        "colab_type": "code",
        "colab": {}
      },
      "source": [
        "def get_segments(tokens):\n",
        "  seg_ids = []\n",
        "  current_seg_id = 0\n",
        "  for tok in tokens:\n",
        "    seg_ids.append(current_seg_id)\n",
        "    if tok == \"[SEP]\":\n",
        "      current_seg_id = 1 - current_seg_id\n",
        "  return seg_ids"
      ],
      "execution_count": null,
      "outputs": []
    },
    {
      "cell_type": "code",
      "metadata": {
        "id": "gAYP8bczLy_K",
        "colab_type": "code",
        "colab": {
          "base_uri": "https://localhost:8080/",
          "height": 55
        },
        "outputId": "88c5daa5-69a3-4f81-9559-d6ed2d71e4cb"
      },
      "source": [
        "print(data_inputs[0])"
      ],
      "execution_count": null,
      "outputs": [
        {
          "output_type": "stream",
          "text": [
            "['[CLS]', 'aw', '##w', '##w', 'that', \"'\", 's', 'a', 'bum', '##mer', '.', 'you', 'should', '##a', 'got', 'david', 'carr', 'of', 'third', 'day', 'to', 'do', 'it', '.', 'd', '[SEP]']\n"
          ],
          "name": "stdout"
        }
      ]
    },
    {
      "cell_type": "code",
      "metadata": {
        "id": "COlHh-ocL6tm",
        "colab_type": "code",
        "colab": {
          "base_uri": "https://localhost:8080/",
          "height": 35
        },
        "outputId": "539f822c-f6bb-44d1-a01b-7e9013819cd3"
      },
      "source": [
        "get_segments(data_inputs[0])"
      ],
      "execution_count": null,
      "outputs": [
        {
          "output_type": "execute_result",
          "data": {
            "text/plain": [
              "[0, 0, 0, 0, 0, 0, 0, 0, 0, 0, 0, 0, 0, 0, 0, 0, 0, 0, 0, 0, 0, 0, 0, 0, 0, 0]"
            ]
          },
          "metadata": {
            "tags": []
          },
          "execution_count": 32
        }
      ]
    },
    {
      "cell_type": "code",
      "metadata": {
        "id": "2K4WlKz2Rhj2",
        "colab_type": "code",
        "colab": {
          "base_uri": "https://localhost:8080/",
          "height": 35
        },
        "outputId": "c8211510-5c9f-4498-b109-2ec53b892f83"
      },
      "source": [
        "my_sent = [\"[CLS]\"] + tokenizer.tokenize(\"Roses are Red.\") + [\"[SEP]\"]\n",
        "my_sent"
      ],
      "execution_count": null,
      "outputs": [
        {
          "output_type": "execute_result",
          "data": {
            "text/plain": [
              "['[CLS]', 'roses', 'are', 'red', '.', '[SEP]']"
            ]
          },
          "metadata": {
            "tags": []
          },
          "execution_count": 33
        }
      ]
    },
    {
      "cell_type": "code",
      "metadata": {
        "id": "j8J-T0t-RrY8",
        "colab_type": "code",
        "colab": {
          "base_uri": "https://localhost:8080/",
          "height": 1000
        },
        "outputId": "5113fb06-a704-4316-ec38-93f32987b0a3"
      },
      "source": [
        "bert_layer([\n",
        "            tf.expand_dims(tf.cast(get_ids(my_sent), tf.int32), 0),\n",
        "            tf.expand_dims(tf.cast(get_mask(my_sent), tf.int32), 0),\n",
        "            tf.expand_dims(tf.cast(get_segments(my_sent), tf.int32), 0),\n",
        "           ])"
      ],
      "execution_count": null,
      "outputs": [
        {
          "output_type": "execute_result",
          "data": {
            "text/plain": [
              "[<tf.Tensor: shape=(1, 768), dtype=float32, numpy=\n",
              " array([[-9.27935600e-01, -4.10335511e-01, -9.65755105e-01,\n",
              "          9.07317996e-01,  8.12913895e-01, -1.74174443e-01,\n",
              "          9.11234558e-01,  3.41952264e-01, -8.74521315e-01,\n",
              "         -9.99989271e-01, -7.78410137e-01,  9.69385266e-01,\n",
              "          9.86160517e-01,  6.36963308e-01,  9.48631346e-01,\n",
              "         -7.51193166e-01, -4.58339661e-01, -7.08104610e-01,\n",
              "          4.62098390e-01, -6.57927096e-01,  7.60414600e-01,\n",
              "          9.99994814e-01, -3.96861106e-01,  3.44166219e-01,\n",
              "          6.16488695e-01,  9.94400024e-01, -7.76633859e-01,\n",
              "          9.38316584e-01,  9.59452271e-01,  7.32879400e-01,\n",
              "         -6.93436861e-01,  2.93080539e-01, -9.93785501e-01,\n",
              "         -1.64551839e-01, -9.67019618e-01, -9.95549560e-01,\n",
              "          5.32935500e-01, -6.88060999e-01,  1.34715335e-02,\n",
              "          2.98195966e-02, -9.18356597e-01,  4.20526296e-01,\n",
              "          9.99988914e-01,  2.52676398e-01,  6.06235743e-01,\n",
              "         -3.50750118e-01, -1.00000000e+00,  4.97585505e-01,\n",
              "         -8.95187438e-01,  9.62561011e-01,  9.43730712e-01,\n",
              "          9.03285682e-01,  1.54699638e-01,  5.86143672e-01,\n",
              "          5.80860496e-01, -4.05053228e-01, -2.76641902e-02,\n",
              "          2.98045993e-01, -2.83075929e-01, -6.47424340e-01,\n",
              "         -6.51523709e-01,  5.43847561e-01, -9.56302106e-01,\n",
              "         -9.22750354e-01,  9.61462975e-01,  8.27475429e-01,\n",
              "         -3.50112587e-01, -4.06405687e-01, -8.74319002e-02,\n",
              "         -9.98740867e-02,  8.96688342e-01,  3.00931633e-01,\n",
              "         -1.51129320e-01, -8.52713645e-01,  8.09592545e-01,\n",
              "          4.00989324e-01, -6.61605954e-01,  1.00000000e+00,\n",
              "         -6.16246462e-01, -9.86407161e-01,  8.90943110e-01,\n",
              "          8.11157703e-01,  5.81394672e-01, -6.33873224e-01,\n",
              "          3.78197938e-01, -1.00000000e+00,  6.76351309e-01,\n",
              "         -2.30612636e-01, -9.92552459e-01,  3.85461301e-01,\n",
              "          6.57650828e-01, -2.90105790e-01,  4.46832836e-01,\n",
              "          6.28524184e-01, -5.58409274e-01, -6.65295184e-01,\n",
              "         -4.72272307e-01, -9.28039372e-01, -3.54472637e-01,\n",
              "         -6.19736075e-01,  1.24534994e-01, -3.48905653e-01,\n",
              "         -4.23184365e-01, -4.20834988e-01,  4.56588686e-01,\n",
              "         -6.14471018e-01, -5.15243411e-01,  5.01909971e-01,\n",
              "          4.29147512e-01,  7.59822011e-01,  4.37516659e-01,\n",
              "         -4.33598399e-01,  6.30962133e-01, -9.59743142e-01,\n",
              "          7.73877501e-01, -3.95737976e-01, -9.87354457e-01,\n",
              "         -6.73180163e-01, -9.92996395e-01,  7.77800262e-01,\n",
              "         -5.05856514e-01, -3.19991052e-01,  9.69388783e-01,\n",
              "         -3.51620734e-01,  3.79092157e-01, -2.21649528e-01,\n",
              "         -9.51505721e-01, -1.00000000e+00, -8.80426884e-01,\n",
              "         -8.34713161e-01, -2.77321607e-01, -4.70461428e-01,\n",
              "         -9.83711958e-01, -9.56730306e-01,  6.61120951e-01,\n",
              "          9.56025898e-01,  1.62189156e-01,  9.99961436e-01,\n",
              "         -5.11205971e-01,  9.59530592e-01, -5.58610082e-01,\n",
              "         -8.00221145e-01,  8.48544002e-01, -5.58320343e-01,\n",
              "          8.33738506e-01,  2.63149500e-01, -7.33846903e-01,\n",
              "          3.16189647e-01, -4.83306468e-01,  6.87450290e-01,\n",
              "         -7.94889987e-01, -3.81298393e-01, -8.71706128e-01,\n",
              "         -9.49488103e-01, -3.62460136e-01,  9.51175690e-01,\n",
              "         -7.62520850e-01, -9.61278081e-01, -1.53294042e-01,\n",
              "         -4.02463615e-01, -5.69815695e-01,  8.52475822e-01,\n",
              "          7.99818099e-01,  5.33586442e-01, -6.96546674e-01,\n",
              "          4.84272480e-01,  2.24440753e-01,  7.31195331e-01,\n",
              "         -8.18207979e-01, -3.58149558e-01,  5.32028615e-01,\n",
              "         -4.41676170e-01, -9.25720990e-01, -9.87607300e-01,\n",
              "         -5.07007897e-01,  5.31485558e-01,  9.93827105e-01,\n",
              "          7.66175270e-01,  4.12393212e-01,  8.83270323e-01,\n",
              "         -3.85666609e-01,  8.81850243e-01, -9.67345178e-01,\n",
              "          9.86407459e-01, -3.13535690e-01,  3.57364058e-01,\n",
              "         -6.57590687e-01,  2.70097464e-01, -8.59112978e-01,\n",
              "          2.32004076e-01,  8.62852991e-01, -9.03662443e-01,\n",
              "         -7.94610143e-01, -2.82699287e-01, -4.76583898e-01,\n",
              "         -5.01097441e-01, -8.80422413e-01,  5.45586109e-01,\n",
              "         -4.41977561e-01, -5.77728987e-01, -1.25810206e-01,\n",
              "          9.06032085e-01,  9.80562210e-01,  8.44253421e-01,\n",
              "          5.20119846e-01,  7.80579567e-01, -9.23414350e-01,\n",
              "         -5.87243855e-01,  2.34754607e-01,  2.97746956e-01,\n",
              "          3.54463845e-01,  9.96218681e-01, -8.01237583e-01,\n",
              "         -2.79998571e-01, -9.39948857e-01, -9.83751893e-01,\n",
              "          3.82993817e-02, -9.28821921e-01, -2.94138044e-01,\n",
              "         -7.00600863e-01,  7.67863929e-01, -3.51922691e-01,\n",
              "          6.57683969e-01,  5.54107189e-01, -9.90459263e-01,\n",
              "         -7.80434191e-01,  5.50272822e-01, -5.03933132e-01,\n",
              "          5.56852698e-01, -3.53224486e-01,  7.86350012e-01,\n",
              "          9.69607174e-01, -6.54101968e-01,  7.34233022e-01,\n",
              "          8.81996691e-01, -9.14772213e-01, -7.82534838e-01,\n",
              "          8.52741301e-01, -4.38667744e-01,  8.24172199e-01,\n",
              "         -7.77354598e-01,  9.91627038e-01,  9.48048651e-01,\n",
              "          7.74401844e-01, -9.52811956e-01, -7.52400398e-01,\n",
              "         -8.65391135e-01, -8.10665309e-01, -1.91085413e-01,\n",
              "          6.22543208e-02,  9.39342856e-01,  6.60155118e-01,\n",
              "          5.10393143e-01,  3.03855270e-01, -7.58786142e-01,\n",
              "          9.97947216e-01, -8.39390755e-01, -9.73821700e-01,\n",
              "         -6.96808279e-01, -4.71226156e-01, -9.92139876e-01,\n",
              "          9.27336991e-01,  3.11118245e-01,  6.17148876e-01,\n",
              "         -5.93245506e-01, -7.30744183e-01, -9.74081218e-01,\n",
              "          9.14184093e-01,  2.35107183e-01,  9.90232766e-01,\n",
              "         -4.98075902e-01, -9.59739566e-01, -7.62371182e-01,\n",
              "         -9.30913448e-01, -4.32067588e-02, -2.13116422e-01,\n",
              "         -6.06085539e-01, -2.81608384e-02, -9.69718456e-01,\n",
              "          6.36244357e-01,  6.35316491e-01,  5.37905693e-01,\n",
              "         -8.91036272e-01,  9.99303162e-01,  1.00000000e+00,\n",
              "          9.73003745e-01,  9.01396990e-01,  8.87466669e-01,\n",
              "         -9.99958754e-01, -6.90021992e-01,  9.99997973e-01,\n",
              "         -9.93730545e-01, -1.00000000e+00, -9.37510848e-01,\n",
              "         -8.12253237e-01,  2.70661086e-01, -1.00000000e+00,\n",
              "         -2.87079155e-01, -1.50920287e-01, -9.31140423e-01,\n",
              "          8.18555117e-01,  9.78329003e-01,  9.94965553e-01,\n",
              "         -1.00000000e+00,  8.81453633e-01,  9.30843174e-01,\n",
              "         -7.06026912e-01,  9.76767182e-01, -6.08330131e-01,\n",
              "          9.75543499e-01,  5.93019724e-01,  5.54319263e-01,\n",
              "         -2.44307324e-01,  4.22843754e-01, -9.68066454e-01,\n",
              "         -9.14158463e-01, -7.75702894e-01, -7.79753685e-01,\n",
              "          9.98873413e-01,  2.67525852e-01, -7.70681083e-01,\n",
              "         -9.30970430e-01,  6.98258400e-01, -1.79436088e-01,\n",
              "          1.48644850e-01, -9.69404459e-01, -3.27199757e-01,\n",
              "          7.69222796e-01,  8.38437557e-01,  2.74363339e-01,\n",
              "          4.46673900e-01, -6.88233852e-01,  4.38525319e-01,\n",
              "         -6.96205646e-02,  2.83885449e-01,  6.96684837e-01,\n",
              "         -9.55272734e-01, -5.49684525e-01, -3.89561445e-01,\n",
              "          3.75222892e-01, -7.64762163e-01, -9.54123020e-01,\n",
              "          9.69721198e-01, -4.86066729e-01,  9.72205758e-01,\n",
              "          1.00000000e+00,  7.64813542e-01, -9.13303614e-01,\n",
              "          6.57082736e-01,  4.31852192e-01, -7.01079369e-01,\n",
              "          1.00000000e+00,  8.67337167e-01, -9.83669579e-01,\n",
              "         -5.84471822e-01,  7.79540896e-01, -6.77890062e-01,\n",
              "         -7.74523914e-01,  9.99660969e-01, -3.41093153e-01,\n",
              "         -8.14479947e-01, -6.48069561e-01,  9.86273110e-01,\n",
              "         -9.94089305e-01,  9.97643113e-01, -8.94537747e-01,\n",
              "         -9.79997218e-01,  9.60477829e-01,  9.49231982e-01,\n",
              "         -6.83828354e-01, -7.17898607e-01,  2.86706775e-01,\n",
              "         -7.60040939e-01,  4.78332490e-01, -9.51963365e-01,\n",
              "          8.08321238e-01,  5.27614117e-01, -1.67665929e-01,\n",
              "          9.16268110e-01, -8.87899041e-01, -5.93430996e-01,\n",
              "          3.90307903e-01, -7.76923358e-01, -3.84818614e-01,\n",
              "          9.59038198e-01,  6.78381205e-01, -4.08702910e-01,\n",
              "         -1.99680831e-02, -4.68428761e-01, -7.41143346e-01,\n",
              "         -9.73734438e-01,  6.23254061e-01,  1.00000000e+00,\n",
              "         -4.31855530e-01,  8.94348800e-01, -5.72569489e-01,\n",
              "         -1.89500879e-02,  7.24835172e-02,  6.05421424e-01,\n",
              "          5.64564228e-01, -5.04034936e-01, -8.33653092e-01,\n",
              "          9.20378685e-01, -9.70664799e-01, -9.92627263e-01,\n",
              "          8.63119543e-01,  2.32818529e-01, -3.05338502e-01,\n",
              "          9.99999225e-01,  6.51024580e-01,  3.69558960e-01,\n",
              "          5.16951859e-01,  9.89937425e-01, -5.10575250e-02,\n",
              "          5.19780874e-01,  9.13519561e-01,  9.89344239e-01,\n",
              "         -4.06514496e-01,  6.72227502e-01,  8.66246223e-01,\n",
              "         -9.63320851e-01, -3.93905580e-01, -7.32534230e-01,\n",
              "          6.66501075e-02, -9.50429142e-01,  5.36764488e-02,\n",
              "         -9.64523673e-01,  9.78591204e-01,  9.72525239e-01,\n",
              "          5.02412975e-01,  3.42612714e-01,  8.20067048e-01,\n",
              "          1.00000000e+00, -8.37067783e-01,  5.97411513e-01,\n",
              "         -4.17201817e-01,  8.81286085e-01, -9.99911010e-01,\n",
              "         -8.37778151e-01, -4.66962218e-01, -2.72496760e-01,\n",
              "         -9.03814554e-01, -4.58637893e-01,  3.91833603e-01,\n",
              "         -9.79059398e-01,  9.10196424e-01,  8.29555571e-01,\n",
              "         -9.92893636e-01, -9.93933320e-01, -5.58821559e-01,\n",
              "          7.86012173e-01,  2.98600942e-01, -9.94314432e-01,\n",
              "         -8.16725373e-01, -6.58432007e-01,  9.07821953e-01,\n",
              "         -4.84596044e-01, -9.59578753e-01, -5.24700999e-01,\n",
              "         -4.26523417e-01,  5.39447546e-01, -3.51429611e-01,\n",
              "          6.03987932e-01,  8.84236693e-01,  6.91960454e-01,\n",
              "         -7.73553729e-01, -3.49986941e-01, -1.82106078e-01,\n",
              "         -8.09592605e-01,  9.06841576e-01, -8.09706271e-01,\n",
              "         -9.76247668e-01, -2.70705670e-01,  1.00000000e+00,\n",
              "         -5.54332733e-01,  8.93760443e-01,  7.55229771e-01,\n",
              "          7.80316353e-01, -1.99225485e-01,  3.35151255e-01,\n",
              "          9.55944121e-01,  3.82269830e-01, -7.57196665e-01,\n",
              "         -9.39320028e-01, -6.35581732e-01, -6.07329130e-01,\n",
              "          7.00572014e-01,  7.23613381e-01,  7.29011178e-01,\n",
              "          8.65883708e-01,  7.64537573e-01,  2.08821118e-01,\n",
              "         -6.98528886e-02, -5.64305519e-04,  9.99799311e-01,\n",
              "         -4.44100052e-01, -1.80671528e-01, -4.89859790e-01,\n",
              "         -2.91431546e-01, -4.25409257e-01, -1.98749691e-01,\n",
              "          1.00000000e+00,  3.56602132e-01,  7.75661588e-01,\n",
              "         -9.93823767e-01, -9.28071022e-01, -9.31738555e-01,\n",
              "          1.00000000e+00,  8.50040555e-01, -7.60715842e-01,\n",
              "          7.18036532e-01,  7.75469184e-01, -1.75162017e-01,\n",
              "          8.09469402e-01, -3.36547792e-01, -3.02385241e-01,\n",
              "          4.57467943e-01,  3.08043808e-01,  9.70232069e-01,\n",
              "         -6.18904114e-01, -9.75721240e-01, -5.94949007e-01,\n",
              "          5.63390970e-01, -9.66651142e-01,  9.99981284e-01,\n",
              "         -6.10340476e-01, -3.60575229e-01, -4.96435910e-01,\n",
              "         -4.91436601e-01,  4.47817385e-01,  2.87387185e-02,\n",
              "         -9.83154714e-01, -3.47387463e-01,  3.09110790e-01,\n",
              "          9.66639042e-01,  3.75864089e-01, -6.41106606e-01,\n",
              "         -8.90264869e-01,  8.92269254e-01,  8.32000077e-01,\n",
              "         -9.59132135e-01, -9.57766414e-01,  9.71166372e-01,\n",
              "         -9.84971166e-01,  7.67819405e-01,  1.00000000e+00,\n",
              "          3.83998871e-01,  4.38051522e-01,  3.52292478e-01,\n",
              "         -4.46136594e-01,  4.46569353e-01, -6.90631688e-01,\n",
              "          6.74425602e-01, -9.59155858e-01, -4.53285158e-01,\n",
              "         -2.96152681e-01,  3.57684493e-01, -2.41154656e-01,\n",
              "         -5.88313937e-01,  7.63308346e-01,  3.13667506e-01,\n",
              "         -6.03100657e-01, -6.84795618e-01, -2.60147303e-01,\n",
              "          5.75160265e-01,  9.16844308e-01, -3.56800288e-01,\n",
              "         -2.31557950e-01,  1.15727916e-01, -1.77119046e-01,\n",
              "         -9.47563589e-01, -5.23142099e-01, -6.04617894e-01,\n",
              "         -9.99998629e-01,  5.41667819e-01, -1.00000000e+00,\n",
              "          6.60002172e-01,  3.39036703e-01, -2.57962316e-01,\n",
              "          8.98434103e-01,  3.58503878e-01,  7.80092061e-01,\n",
              "         -8.63456190e-01, -9.04243827e-01,  2.35173896e-01,\n",
              "          8.47542286e-01, -4.83705044e-01, -7.76437402e-01,\n",
              "         -7.77086973e-01,  4.51547027e-01, -1.20644107e-01,\n",
              "          3.45338047e-01, -7.58304715e-01,  7.38663554e-01,\n",
              "         -2.54878432e-01,  1.00000000e+00,  1.56726763e-01,\n",
              "         -6.47173047e-01, -9.80846524e-01,  3.21544856e-01,\n",
              "         -3.49480093e-01,  1.00000000e+00, -8.88086259e-01,\n",
              "         -9.70758855e-01,  4.17614043e-01, -6.59506440e-01,\n",
              "         -8.39061737e-01,  4.56446052e-01,  7.08391517e-02,\n",
              "         -8.59648824e-01, -9.68725741e-01,  9.56583977e-01,\n",
              "          8.95311177e-01, -6.79162502e-01,  7.91996241e-01,\n",
              "         -3.77204955e-01, -5.99682450e-01,  1.89219370e-01,\n",
              "          9.34770465e-01,  9.87944543e-01,  7.07965016e-01,\n",
              "          9.21087921e-01, -1.59540772e-01, -4.83467817e-01,\n",
              "          9.76640463e-01,  2.95252234e-01,  5.32053411e-01,\n",
              "          3.22658211e-01,  1.00000000e+00,  4.97991800e-01,\n",
              "         -9.31000948e-01, -3.24744701e-01, -9.82841671e-01,\n",
              "         -2.67996311e-01, -9.52166140e-01,  4.53916788e-01,\n",
              "          3.94372463e-01,  9.26190257e-01, -3.09752315e-01,\n",
              "          9.69366491e-01, -9.40263867e-01,  1.66798472e-01,\n",
              "         -8.32233191e-01, -7.04411268e-01,  5.49370646e-01,\n",
              "         -9.30373549e-01, -9.88702416e-01, -9.91572261e-01,\n",
              "          7.38682747e-01, -5.26327193e-01, -9.29531753e-02,\n",
              "          2.77955979e-01,  2.54385710e-01,  5.55893064e-01,\n",
              "          5.70780396e-01, -1.00000000e+00,  9.51999664e-01,\n",
              "          5.82980871e-01,  9.13394094e-01,  9.78624463e-01,\n",
              "          7.49032319e-01,  7.39971936e-01,  3.71186554e-01,\n",
              "         -9.89660680e-01, -9.84848559e-01, -5.31397879e-01,\n",
              "         -3.88979644e-01,  8.49413812e-01,  8.17017198e-01,\n",
              "          8.92696977e-01,  6.16892278e-01, -5.75284600e-01,\n",
              "         -2.86467582e-01, -7.60570765e-01, -7.78939545e-01,\n",
              "         -9.94441748e-01,  5.72188377e-01, -7.72194922e-01,\n",
              "         -9.57696319e-01,  9.67420816e-01, -2.17978895e-01,\n",
              "         -1.75552890e-01, -3.26557338e-01, -9.06778038e-01,\n",
              "          9.35597479e-01,  7.66239524e-01,  1.90596208e-01,\n",
              "          1.53928891e-01,  5.40217519e-01,  9.02483642e-01,\n",
              "          9.40388918e-01,  9.88884807e-01, -9.10143971e-01,\n",
              "          7.88360000e-01, -8.31383109e-01,  6.11195505e-01,\n",
              "          8.21669221e-01, -9.41967785e-01,  3.75133306e-01,\n",
              "          5.49405873e-01, -6.15318477e-01,  3.91501904e-01,\n",
              "         -3.66627365e-01, -9.74752426e-01,  8.88878286e-01,\n",
              "         -3.62838179e-01,  6.53205872e-01, -5.35069942e-01,\n",
              "         -2.21283790e-02, -4.40158159e-01, -3.87567312e-01,\n",
              "         -7.89355040e-01, -6.70902610e-01,  6.87370002e-01,\n",
              "          4.34680194e-01,  9.07510996e-01,  9.13954139e-01,\n",
              "         -1.07544906e-01, -8.54991853e-01, -3.22965950e-01,\n",
              "         -7.80992746e-01, -9.35075521e-01,  9.56621170e-01,\n",
              "         -2.46967420e-01, -1.84676111e-01,  7.18142033e-01,\n",
              "          1.66834205e-01,  9.54272628e-01,  5.20279527e-01,\n",
              "         -5.11346579e-01, -3.58430564e-01, -7.76734591e-01,\n",
              "          9.01378989e-01, -6.45810366e-01, -6.68203354e-01,\n",
              "         -6.79575801e-01,  8.30889344e-01,  4.56940085e-01,\n",
              "          9.99998212e-01, -8.61587405e-01, -9.52708602e-01,\n",
              "         -5.74054956e-01, -4.75623459e-01,  5.11586010e-01,\n",
              "         -7.02607572e-01, -1.00000000e+00,  5.05624413e-01,\n",
              "         -6.52046084e-01,  8.13730836e-01, -8.72139275e-01,\n",
              "          8.09319973e-01, -8.18222165e-01, -9.88196373e-01,\n",
              "         -4.00082678e-01,  3.38946044e-01,  7.67013967e-01,\n",
              "         -5.16352892e-01, -8.75940919e-01,  6.15952253e-01,\n",
              "         -7.52709866e-01,  9.89328504e-01,  8.95710766e-01,\n",
              "         -6.14250541e-01,  2.19649881e-01,  7.52754331e-01,\n",
              "         -8.20389926e-01, -8.05691302e-01,  9.38039362e-01]], dtype=float32)>,\n",
              " <tf.Tensor: shape=(1, 6, 768), dtype=float32, numpy=\n",
              " array([[[-0.07947467,  0.00580742, -0.31414044, ..., -0.4509725 ,\n",
              "           0.2933319 ,  0.23387676],\n",
              "         [ 0.3931604 ,  0.50336313,  0.24021412, ..., -0.32635623,\n",
              "           0.34986085,  0.20673232],\n",
              "         [ 0.35789225,  0.1076712 , -0.04988844, ..., -0.5082272 ,\n",
              "           0.2504887 , -0.26268777],\n",
              "         [-0.29892185, -0.24708752,  0.07151446, ..., -0.33810055,\n",
              "           0.1269956 , -0.09681875],\n",
              "         [-0.36815366, -0.7146526 , -0.21032605, ...,  0.35395205,\n",
              "           0.334386  , -0.62334764],\n",
              "         [ 0.88692254, -0.16996974, -0.29173705, ...,  0.05816533,\n",
              "          -0.5775994 , -0.32075325]]], dtype=float32)>]"
            ]
          },
          "metadata": {
            "tags": []
          },
          "execution_count": 34
        }
      ]
    },
    {
      "cell_type": "code",
      "metadata": {
        "id": "Ga5KHKUHTtYd",
        "colab_type": "code",
        "colab": {}
      },
      "source": [
        "data_with_len = [[sent, data_labels[i], len(sent)]\n",
        "                 for i, sent in enumerate(data_inputs)]\n",
        "random.shuffle(data_with_len)\n",
        "data_with_len.sort(key = lambda x: x[2])\n",
        "sorted_all = [([get_ids(sent_lab[0]),\n",
        "                get_mask(sent_lab[0]),\n",
        "                get_segments(sent_lab[0])],\n",
        "               sent_lab[1])\n",
        "               for sent_lab in data_with_len if sent_lab[2] > 7]"
      ],
      "execution_count": null,
      "outputs": []
    },
    {
      "cell_type": "code",
      "metadata": {
        "id": "n33h-LRscX_s",
        "colab_type": "code",
        "colab": {}
      },
      "source": [
        "all_dataset = tf.data.Dataset.from_generator(lambda: sorted_all,\n",
        "                                             output_types=(tf.int32, tf.int32))"
      ],
      "execution_count": null,
      "outputs": []
    },
    {
      "cell_type": "code",
      "metadata": {
        "id": "nbdhHTsactPW",
        "colab_type": "code",
        "colab": {}
      },
      "source": [
        "BATCH_SIZE = 32\n",
        "all_batched = all_dataset.padded_batch(BATCH_SIZE,\n",
        "                                       padded_shapes=((3, None,), ()),\n",
        "                                       padding_values=(0,0))"
      ],
      "execution_count": null,
      "outputs": []
    },
    {
      "cell_type": "code",
      "metadata": {
        "id": "54rJz8hQdpQX",
        "colab_type": "code",
        "colab": {}
      },
      "source": [
        "NB_BATCHES = len(sorted_all) // BATCH_SIZE\n",
        "NB_BATCHES_TEST = NB_BATCHES // 10\n",
        "all_batched.shuffle(NB_BATCHES)\n",
        "test_dataset = all_batched.take(NB_BATCHES_TEST)\n",
        "train_dataset = all_batched.skip(NB_BATCHES_TEST)"
      ],
      "execution_count": null,
      "outputs": []
    },
    {
      "cell_type": "markdown",
      "metadata": {
        "id": "iYgAc7Xaeg2M",
        "colab_type": "text"
      },
      "source": [
        "# 3 - Construção dos Modelos"
      ]
    },
    {
      "cell_type": "code",
      "metadata": {
        "id": "Qv2MxacPefVp",
        "colab_type": "code",
        "colab": {}
      },
      "source": [
        "class DCNNBERTEmbedding(tf.keras.Model):\n",
        "\n",
        "    def __init__(self,\n",
        "                 nb_filters=50,\n",
        "                 FFN_units=512,\n",
        "                 nb_classes=2,\n",
        "                 dropout_rate=0.1,\n",
        "                 name=\"dcnn\"):\n",
        "        super(DCNNBERTEmbedding, self).__init__(name=name)\n",
        "\n",
        "        self.bert_layer = hub.KerasLayer(\"https://tfhub.dev/tensorflow/bert_en_uncased_L-12_H-768_A-12/1\",\n",
        "                                         trainable = False)\n",
        "\n",
        "        self.bigram = layers.Conv1D(filters = nb_filters,\n",
        "                                    kernel_size = 2,\n",
        "                                    padding='valid',\n",
        "                                    activation='relu')\n",
        "        self.trigram = layers.Conv1D(filters = nb_filters,\n",
        "                                     kernel_size = 3,\n",
        "                                     padding='valid',\n",
        "                                     activation='relu')\n",
        "        self.fourgram = layers.Conv1D(filters = nb_filters,\n",
        "                                      kernel_size = 4,\n",
        "                                      padding='valid',\n",
        "                                      activation='relu')\n",
        "        self.pool = layers.GlobalMaxPool1D()\n",
        "        self.dense_1 = layers.Dense(units=FFN_units, activation='relu')\n",
        "        self.dropout = layers.Dropout(rate=dropout_rate)\n",
        "        if nb_classes == 2:\n",
        "            self.last_dense = layers.Dense(units=1,\n",
        "                                           activation='sigmoid')\n",
        "        else:\n",
        "            self.last_dense = layers.Dense(units=nb_classes,\n",
        "                                           activation='softmax')\n",
        "\n",
        "    def embed_with_bert(self, all_tokens):\n",
        "      _, embs = self.bert_layer([all_tokens[:, 0, :],\n",
        "                                 all_tokens[:, 1, :],\n",
        "                                 all_tokens[:, 2, :]])\n",
        "      return embs\n",
        "\n",
        "    def call(self, inputs, training):\n",
        "        x = self.embed_with_bert(inputs)\n",
        "        \n",
        "        x_1 = self.bigram(x)\n",
        "        x_1 = self.pool(x_1)\n",
        "        x_2 = self.trigram(x)\n",
        "        x_2 = self.pool(x_2)\n",
        "        x_3 = self.fourgram(x)\n",
        "        x_3 = self.pool(x_3)\n",
        "\n",
        "        merged = tf.concat([x_1, x_2, x_3], axis =-1) # (batch_size, 3 * nb_filters)\n",
        "        merged = self.dense_1(merged)\n",
        "        merged = self.dropout(merged, training)\n",
        "        output = self.last_dense(merged)\n",
        "\n",
        "        return output"
      ],
      "execution_count": null,
      "outputs": []
    },
    {
      "cell_type": "markdown",
      "metadata": {
        "id": "jduzJ2-7WpK3",
        "colab_type": "text"
      },
      "source": [
        "# 4 - Treinamento"
      ]
    },
    {
      "cell_type": "code",
      "metadata": {
        "id": "ldXNyD4Qly1h",
        "colab_type": "code",
        "colab": {}
      },
      "source": [
        "NB_FILTERS = 100\n",
        "FFN_UNITS = 256\n",
        "NB_CLASSES = 2\n",
        "DROPOUT_RATE = 0.2\n",
        "BATCH_SIZE = 32\n",
        "NB_EPOCHS = 5"
      ],
      "execution_count": null,
      "outputs": []
    },
    {
      "cell_type": "code",
      "metadata": {
        "id": "gM_0_w3AmNi3",
        "colab_type": "code",
        "colab": {}
      },
      "source": [
        "Dcnn = DCNNBERTEmbedding(nb_filters = NB_FILTERS,\n",
        "                         FFN_units = FFN_UNITS,\n",
        "                         nb_classes = NB_CLASSES,\n",
        "                         dropout_rate = DROPOUT_RATE)"
      ],
      "execution_count": null,
      "outputs": []
    },
    {
      "cell_type": "code",
      "metadata": {
        "id": "X4ollVW_pbgC",
        "colab_type": "code",
        "colab": {}
      },
      "source": [
        "if NB_CLASSES == 2:\n",
        "    Dcnn.compile(loss = \"binary_crossentropy\",\n",
        "                 optimizer = \"adam\",\n",
        "                 metrics = [\"accuracy\"])\n",
        "else:\n",
        "    Dcnn.compile(loss = \"sparse_categorical_crossentropy\",\n",
        "                 optimizer = \"adam\",\n",
        "                 metrics = [\"sparse_categorical_accuracy\"])"
      ],
      "execution_count": null,
      "outputs": []
    },
    {
      "cell_type": "code",
      "metadata": {
        "id": "TQw4bMmQqMhI",
        "colab_type": "code",
        "colab": {
          "base_uri": "https://localhost:8080/",
          "height": 35
        },
        "outputId": "0788a07b-1213-4b4e-eaef-279d555d8574"
      },
      "source": [
        "checkpoint_path = '/content/drive/My Drive/Google Colab/Sentimentos com BERT/'\n",
        "\n",
        "ckpt = tf.train.Checkpoint(Dcnn = Dcnn)\n",
        "\n",
        "ckpt_manager = tf.train.CheckpointManager(ckpt, checkpoint_path, max_to_keep=1)\n",
        "\n",
        "if ckpt_manager.latest_checkpoint:\n",
        "    ckpt.restore(ckpt_manager.latest_checkpoint)\n",
        "    print('Latest checkpoint restored!')"
      ],
      "execution_count": null,
      "outputs": [
        {
          "output_type": "stream",
          "text": [
            "Latest checkpoint restored!\n"
          ],
          "name": "stdout"
        }
      ]
    },
    {
      "cell_type": "code",
      "metadata": {
        "id": "0HxRV1cp0NE9",
        "colab_type": "code",
        "colab": {}
      },
      "source": [
        "class MyCustomCallBack(tf.keras.callbacks.Callback):\n",
        "  \n",
        "    def on_epoch_end(self, epoch, logs = None):\n",
        "        ckpt_manager.save()\n",
        "        print(\"Checkpoint saved at {}.\".format(checkpoint_path))"
      ],
      "execution_count": null,
      "outputs": []
    },
    {
      "cell_type": "code",
      "metadata": {
        "id": "NmuxVmrK1Y3I",
        "colab_type": "code",
        "colab": {
          "base_uri": "https://localhost:8080/",
          "height": 305
        },
        "outputId": "950caaa5-13ea-41eb-e982-2813cfc34d87"
      },
      "source": [
        "history = Dcnn.fit(train_dataset,\n",
        "                   steps_per_epoch = 100,\n",
        "                   epochs = NB_EPOCHS,\n",
        "                   callbacks = [MyCustomCallBack()])"
      ],
      "execution_count": null,
      "outputs": [
        {
          "output_type": "stream",
          "text": [
            "Epoch 1/5\n",
            " 99/100 [============================>.] - ETA: 0s - loss: 0.3794 - accuracy: 0.8302Checkpoint saved at /content/drive/My Drive/Google Colab/Sentimentos com BERT/.\n",
            "100/100 [==============================] - 5s 54ms/step - loss: 0.3778 - accuracy: 0.8309\n",
            "Epoch 2/5\n",
            " 99/100 [============================>.] - ETA: 0s - loss: 0.3969 - accuracy: 0.8232Checkpoint saved at /content/drive/My Drive/Google Colab/Sentimentos com BERT/.\n",
            "100/100 [==============================] - 5s 49ms/step - loss: 0.3977 - accuracy: 0.8225\n",
            "Epoch 3/5\n",
            " 99/100 [============================>.] - ETA: 0s - loss: 0.4226 - accuracy: 0.8103Checkpoint saved at /content/drive/My Drive/Google Colab/Sentimentos com BERT/.\n",
            "100/100 [==============================] - 11s 114ms/step - loss: 0.4239 - accuracy: 0.8094\n",
            "Epoch 4/5\n",
            "100/100 [==============================] - ETA: 0s - loss: 0.4139 - accuracy: 0.8147Checkpoint saved at /content/drive/My Drive/Google Colab/Sentimentos com BERT/.\n",
            "100/100 [==============================] - 19s 193ms/step - loss: 0.4139 - accuracy: 0.8147\n",
            "Epoch 5/5\n",
            "100/100 [==============================] - ETA: 0s - loss: 0.4216 - accuracy: 0.8141Checkpoint saved at /content/drive/My Drive/Google Colab/Sentimentos com BERT/.\n",
            "100/100 [==============================] - 7s 68ms/step - loss: 0.4216 - accuracy: 0.8141\n"
          ],
          "name": "stdout"
        }
      ]
    },
    {
      "cell_type": "markdown",
      "metadata": {
        "id": "zYO5uI2JQ-mU",
        "colab_type": "text"
      },
      "source": [
        "Epoch 1/5\n",
        " 99/100 [============================>.] - ETA: 0s - loss: 0.3794 - accuracy: 0.8302Checkpoint saved at /content/drive/My Drive/Google Colab/Sentimentos com BERT/.\n",
        "100/100 [==============================] - 5s 54ms/step - loss: 0.3778 - accuracy: 0.8309\n",
        "\n",
        "Epoch 2/5\n",
        " 99/100 [============================>.] - ETA: 0s - loss: 0.3969 - accuracy: 0.8232Checkpoint saved at /content/drive/My Drive/Google Colab/Sentimentos com BERT/.\n",
        "100/100 [==============================] - 5s 49ms/step - loss: 0.3977 - accuracy: 0.8225\n",
        "\n",
        "Epoch 3/5\n",
        " 99/100 [============================>.] - ETA: 0s - loss: 0.4226 - accuracy: 0.8103Checkpoint saved at /content/drive/My Drive/Google Colab/Sentimentos com BERT/.\n",
        "100/100 [==============================] - 11s 114ms/step - loss: 0.4239 - accuracy: 0.8094\n",
        "\n",
        "Epoch 4/5\n",
        "100/100 [==============================] - ETA: 0s - loss: 0.4139 - accuracy: 0.8147Checkpoint saved at /content/drive/My Drive/Google Colab/Sentimentos com BERT/.\n",
        "100/100 [==============================] - 19s 193ms/step - loss: 0.4139 - accuracy: 0.8147\n",
        "\n",
        "Epoch 5/5\n",
        "100/100 [==============================] - ETA: 0s - loss: 0.4216 - accuracy: 0.8141Checkpoint saved at /content/drive/My Drive/Google Colab/Sentimentos com BERT/.\n",
        "100/100 [==============================] - 7s 68ms/step - loss: 0.4216 - accuracy: 0.8141"
      ]
    },
    {
      "cell_type": "markdown",
      "metadata": {
        "id": "mnzqT0xeGGNl",
        "colab_type": "text"
      },
      "source": [
        "# 5 - Avaliação"
      ]
    },
    {
      "cell_type": "code",
      "metadata": {
        "id": "JbkI4ZA1jXEd",
        "colab_type": "code",
        "colab": {
          "base_uri": "https://localhost:8080/",
          "height": 53
        },
        "outputId": "0e267e3e-7bbc-40c7-e3fe-679e1ad8dd85"
      },
      "source": [
        "results = Dcnn.evaluate(test_dataset)\n",
        "print(results)"
      ],
      "execution_count": null,
      "outputs": [
        {
          "output_type": "stream",
          "text": [
            "4513/4513 [==============================] - 104s 23ms/step - loss: 0.4156 - accuracy: 0.8120\n",
            "[0.41559892892837524, 0.8120360374450684]\n"
          ],
          "name": "stdout"
        }
      ]
    },
    {
      "cell_type": "code",
      "metadata": {
        "id": "nUrFhX3bXBcZ",
        "colab_type": "code",
        "colab": {}
      },
      "source": [
        "def get_prediction(sentence):\n",
        "  tokens = encode_sentence(sentence)\n",
        "\n",
        "  input_ids = get_ids(tokens)\n",
        "  input_mask = get_mask(tokens)\n",
        "  segment_ids = get_segments(tokens)\n",
        "\n",
        "  inputs = tf.stack(\n",
        "      [\n",
        "       tf.cast(input_ids, dtype=tf.int32),\n",
        "       tf.cast(input_mask, dtype=tf.int32),\n",
        "       tf.cast(segment_ids, dtype=tf.int32),\n",
        "      ], axis = 0)\n",
        "  inputs = tf.expand_dims(inputs, 0)\n",
        "\n",
        "  output = Dcnn(inputs, training=False)\n",
        "\n",
        "  sentiment = math.floor(output*2)\n",
        "\n",
        "  if sentiment == 0:\n",
        "    print(\"Output of the model: {}\\nPredicted sentiment: negative\".format(output))\n",
        "  elif sentiment == 1:\n",
        "    print(\"Output of the model: {}\\nPredicted sentiment: positive\".format(output))"
      ],
      "execution_count": null,
      "outputs": []
    },
    {
      "cell_type": "code",
      "metadata": {
        "id": "1vr_HqggY-oS",
        "colab_type": "code",
        "colab": {
          "base_uri": "https://localhost:8080/",
          "height": 53
        },
        "outputId": "cdc95e48-2255-4407-8c96-261e7a126681"
      },
      "source": [
        "get_prediction(\"This actor is horrible.\")"
      ],
      "execution_count": null,
      "outputs": [
        {
          "output_type": "stream",
          "text": [
            "Output of the model: [[0.04115984]]\n",
            "Predicted sentiment: negative\n"
          ],
          "name": "stdout"
        }
      ]
    },
    {
      "cell_type": "code",
      "metadata": {
        "id": "3CobnAksZLnt",
        "colab_type": "code",
        "colab": {
          "base_uri": "https://localhost:8080/",
          "height": 53
        },
        "outputId": "c0033b40-5416-4f05-ba63-b23287b0268a"
      },
      "source": [
        "get_prediction(\"I like corgis.\")"
      ],
      "execution_count": null,
      "outputs": [
        {
          "output_type": "stream",
          "text": [
            "Output of the model: [[0.56070167]]\n",
            "Predicted sentiment: positive\n"
          ],
          "name": "stdout"
        }
      ]
    }
  ]
}